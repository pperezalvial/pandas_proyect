{
 "cells": [
  {
   "cell_type": "code",
   "execution_count": null,
   "metadata": {},
   "outputs": [],
   "source": [
    "\n",
    "import pandas as pd\n",
    "\n",
    "pd.options.mode.chained_assignment = None  # default='warn'\n",
    "import numpy as np\n",
    "import warnings\n",
    "from pandas.tseries.offsets import MonthBegin\n",
    "with warnings.catch_warnings():\n",
    "    warnings.filterwarnings('ignore', r'elementwise comparison failed; returning scalar instead, but in the future will perform elementwise comparison(.*)')\n",
    "\n",
    "\n",
    "# SUSPENSIONES PARTE 1\n",
    "\n",
    "archivo = r'Z:\\U ESTADISTICAS\\REM 20 OK\\FORMATO REM 20 AÑO 2020 (a Octubre).xls'\n",
    "\n",
    "#bASE Urgencias \n",
    "df1 = pd.read_excel(archivo, sheet_name='REM 20 OCTUBRE',skiprows=2) # m,odificar hoja por fecha a consultar\n",
    "dfrem = df1.rename(columns={'Unnamed: 0':'codigo','Unnamed: 1':'SERVICIO','Unnamed: 2':'EXISTENCIA_MES_ANT','Unnamed: 3':'INGRESO_FUERA','Unnamed: 4':'ING_APS','Unnamed: 5':'ING_CAE',\n",
    "                              'Unnamed: 6':'INGR_OTH','Unnamed: 7':'ING_OTP','TOTAL':'TOTAL_INGRESOS','DE SERV. DEL MISMO HOSPITAL':'INGRESOS_SER_MISMO_HOSPITAL_','TRASLADO A OTRO SERV. DEL HOSPITAL':'TRASLADOS','TOTAL.1':'EGRESOS','ALTA AL HOGAR O A OTRO ESTABLECIMIENTO':'ALTAS',\n",
    "                            'Unnamed: 14':'EXISTENCIA_MES_SIGUIENTE','Unnamed: 15':'INGRESO_MISMO_DIA','DISPONIBLES': 'CAMAS_DISPONIBLES','OCUPADOS':'CAMAS_OCUPADAS','TOTAL.2':'DIAS_ESTADA_TOTAL','BENEFICIARIOS':'DIAS_ESTADA_BENEFICIARIOS','Unnamed: 20':'DOTACION_CAMAS'})\n",
    "\n",
    "\n",
    "dfrem"
   ]
  }
 ],
 "metadata": {
  "kernelspec": {
   "display_name": "Python 3",
   "language": "python",
   "name": "python3"
  },
  "language_info": {
   "codemirror_mode": {
    "name": "ipython",
    "version": 3
   },
   "file_extension": ".py",
   "mimetype": "text/x-python",
   "name": "python",
   "nbconvert_exporter": "python",
   "pygments_lexer": "ipython3",
   "version": "3.8.3"
  }
 },
 "nbformat": 4,
 "nbformat_minor": 4
}
