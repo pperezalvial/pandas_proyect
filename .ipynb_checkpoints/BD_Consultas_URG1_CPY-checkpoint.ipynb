{
 "cells": [
  {
   "cell_type": "code",
   "execution_count": 79,
   "metadata": {},
   "outputs": [
    {
     "data": {
      "text/html": [
       "<div>\n",
       "<style scoped>\n",
       "    .dataframe tbody tr th:only-of-type {\n",
       "        vertical-align: middle;\n",
       "    }\n",
       "\n",
       "    .dataframe tbody tr th {\n",
       "        vertical-align: top;\n",
       "    }\n",
       "\n",
       "    .dataframe thead th {\n",
       "        text-align: right;\n",
       "    }\n",
       "</style>\n",
       "<table border=\"1\" class=\"dataframe\">\n",
       "  <thead>\n",
       "    <tr style=\"text-align: right;\">\n",
       "      <th></th>\n",
       "      <th>Tipo_atencion</th>\n",
       "      <th>Ambos Sexos</th>\n",
       "    </tr>\n",
       "  </thead>\n",
       "  <tbody>\n",
       "    <tr>\n",
       "      <th>0</th>\n",
       "      <td>ATENCIÓN MÉDICA NIÑO Y ADULTO</td>\n",
       "      <td>5941</td>\n",
       "    </tr>\n",
       "    <tr>\n",
       "      <th>1</th>\n",
       "      <td>ATENCIÓN MÉDICA GINECO-OBSTETRA</td>\n",
       "      <td>633</td>\n",
       "    </tr>\n",
       "    <tr>\n",
       "      <th>2</th>\n",
       "      <td>ATENCIÓN POR MATRONA</td>\n",
       "      <td>1121</td>\n",
       "    </tr>\n",
       "  </tbody>\n",
       "</table>\n",
       "</div>"
      ],
      "text/plain": [
       "                     Tipo_atencion Ambos Sexos\n",
       "0    ATENCIÓN MÉDICA NIÑO Y ADULTO        5941\n",
       "1  ATENCIÓN MÉDICA GINECO-OBSTETRA         633\n",
       "2             ATENCIÓN POR MATRONA        1121"
      ]
     },
     "execution_count": 79,
     "metadata": {},
     "output_type": "execute_result"
    }
   ],
   "source": [
    "#CAPTURAR DATOS PARA BD_Consultas_URG1_CPY\n",
    "#urgencias\n",
    "\n",
    "import pandas as pd\n",
    "\n",
    "pd.options.mode.chained_assignment = None  # default='warn'\n",
    "import numpy as np\n",
    "import warnings\n",
    "from pandas.tseries.offsets import MonthBegin\n",
    "with warnings.catch_warnings():\n",
    "    warnings.filterwarnings('ignore', r'elementwise comparison failed; returning scalar instead, but in the future will perform elementwise comparison(.*)')\n",
    "\n",
    "\n",
    "# SABANAS DE DATOS COMPLETA DE AGENDAS\n",
    "\n",
    "archivo = r'C:\\COSAS\\09 SEPTIEMBRE\\113100 SA_20_SEPTIEMBRE.xlsm'\n",
    "\n",
    "df1 = pd.read_excel(archivo, sheet_name='A08',skiprows=10,usecols=['Unnamed: 0','Ambos Sexos'])\n",
    "df2 = df1.rename(columns={'Unnamed: 0':'Tipo_atencion'})\n",
    "df3=df2.query(\"Tipo_atencion in ('ATENCIÓN MÉDICA NIÑO Y ADULTO','ATENCIÓN MÉDICA GINECO-OBSTETRA','ATENCIÓN POR MATRONA')\")\n",
    "df3"
   ]
  },
  {
   "cell_type": "code",
   "execution_count": 104,
   "metadata": {
    "scrolled": true
   },
   "outputs": [
    {
     "data": {
      "text/html": [
       "<div>\n",
       "<style scoped>\n",
       "    .dataframe tbody tr th:only-of-type {\n",
       "        vertical-align: middle;\n",
       "    }\n",
       "\n",
       "    .dataframe tbody tr th {\n",
       "        vertical-align: top;\n",
       "    }\n",
       "\n",
       "    .dataframe thead th {\n",
       "        text-align: right;\n",
       "    }\n",
       "</style>\n",
       "<table border=\"1\" class=\"dataframe\">\n",
       "  <thead>\n",
       "    <tr style=\"text-align: right;\">\n",
       "      <th></th>\n",
       "      <th>actividad</th>\n",
       "      <th>Ambos Sexos</th>\n",
       "      <th>DENTAL UEH</th>\n",
       "    </tr>\n",
       "  </thead>\n",
       "  <tbody>\n",
       "    <tr>\n",
       "      <th>0</th>\n",
       "      <td>CONSULTA DE MORBILIDAD</td>\n",
       "      <td>0.0</td>\n",
       "      <td>0.0</td>\n",
       "    </tr>\n",
       "    <tr>\n",
       "      <th>2</th>\n",
       "      <td>CONSULTA DE URGENCIA (GES)</td>\n",
       "      <td>0.0</td>\n",
       "      <td>0.0</td>\n",
       "    </tr>\n",
       "  </tbody>\n",
       "</table>\n",
       "</div>"
      ],
      "text/plain": [
       "                    actividad  Ambos Sexos  DENTAL UEH\n",
       "0      CONSULTA DE MORBILIDAD          0.0         0.0\n",
       "2  CONSULTA DE URGENCIA (GES)          0.0         0.0"
      ]
     },
     "execution_count": 104,
     "metadata": {},
     "output_type": "execute_result"
    }
   ],
   "source": [
    "#Dental\n",
    "df4 = pd.read_excel(archivo, sheet_name='A09',skiprows=10,usecols=['Unnamed: 0','Ambos Sexos'])\n",
    "df5 = df4.rename(columns={'Unnamed: 0':'actividad'})\n",
    "df6=df5.query(\"actividad in ('CONSULTA DE MORBILIDAD','CONSULTA DE URGENCIA (GES)')\")\n",
    "df6['Ambos Sexos'] = df6['Ambos Sexos'].astype(float)\n",
    "\n",
    "df6['DENTAL UEH'] = df6[['Ambos Sexos']].sum(axis=1)\n",
    "\n",
    "df6"
   ]
  },
  {
   "cell_type": "code",
   "execution_count": 98,
   "metadata": {},
   "outputs": [],
   "source": []
  },
  {
   "cell_type": "code",
   "execution_count": 99,
   "metadata": {},
   "outputs": [
    {
     "data": {
      "text/html": [
       "<div>\n",
       "<style scoped>\n",
       "    .dataframe tbody tr th:only-of-type {\n",
       "        vertical-align: middle;\n",
       "    }\n",
       "\n",
       "    .dataframe tbody tr th {\n",
       "        vertical-align: top;\n",
       "    }\n",
       "\n",
       "    .dataframe thead th {\n",
       "        text-align: right;\n",
       "    }\n",
       "</style>\n",
       "<table border=\"1\" class=\"dataframe\">\n",
       "  <thead>\n",
       "    <tr style=\"text-align: right;\">\n",
       "      <th></th>\n",
       "      <th>actividad</th>\n",
       "      <th>DENTAL UEH</th>\n",
       "    </tr>\n",
       "  </thead>\n",
       "  <tbody>\n",
       "    <tr>\n",
       "      <th>0</th>\n",
       "      <td>CONSULTA DE MORBILIDAD</td>\n",
       "      <td>0.0</td>\n",
       "    </tr>\n",
       "    <tr>\n",
       "      <th>1</th>\n",
       "      <td>CONSULTA DE URGENCIA (GES)</td>\n",
       "      <td>0.0</td>\n",
       "    </tr>\n",
       "  </tbody>\n",
       "</table>\n",
       "</div>"
      ],
      "text/plain": [
       "                    actividad  DENTAL UEH\n",
       "0      CONSULTA DE MORBILIDAD         0.0\n",
       "1  CONSULTA DE URGENCIA (GES)         0.0"
      ]
     },
     "execution_count": 99,
     "metadata": {},
     "output_type": "execute_result"
    }
   ],
   "source": []
  },
  {
   "cell_type": "code",
   "execution_count": null,
   "metadata": {},
   "outputs": [],
   "source": []
  }
 ],
 "metadata": {
  "kernelspec": {
   "display_name": "Python 3",
   "language": "python",
   "name": "python3"
  },
  "language_info": {
   "codemirror_mode": {
    "name": "ipython",
    "version": 3
   },
   "file_extension": ".py",
   "mimetype": "text/x-python",
   "name": "python",
   "nbconvert_exporter": "python",
   "pygments_lexer": "ipython3",
   "version": "3.8.3"
  }
 },
 "nbformat": 4,
 "nbformat_minor": 4
}
